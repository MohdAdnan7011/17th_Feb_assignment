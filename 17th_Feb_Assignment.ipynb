{
 "cells": [
  {
   "cell_type": "code",
   "execution_count": 1,
   "id": "25d569de",
   "metadata": {},
   "outputs": [
    {
     "data": {
      "text/plain": [
       "'MongoDB is a popular non-relational (NoSQL) database that stores data in a flexible,\\nJSON-like format called BSON (Binary JSON). It is designed for scalability and flexibility,\\nallowing for the storage of complex data structures and large amounts of data.\\n\\nNon-relational databases (NoSQL) do not use the traditional table-based structure found in relational databases (SQL).\\nInstead, they use various data models to store and manage data, including:\\n\\nDocument-based: Stores data as documents (e.g., MongoDB).\\nKey-Value: Stores data as key-value pairs (e.g., Redis).\\n\\nWhen to Use MongoDB Over SQL Databases\\nMongoDB is preferred in scenarios where:\\n\\nFlexible Schema: When the data structure can change over time or varies from one record to another.\\n\\nExample: Storing user profiles with different attributes.\\nScalability: When the application requires horizontal scaling across multiple servers.\\n\\nExample: Large-scale web applications with high traffic.'"
      ]
     },
     "execution_count": 1,
     "metadata": {},
     "output_type": "execute_result"
    }
   ],
   "source": [
    "# Question number 1\n",
    "'''MongoDB is a popular non-relational (NoSQL) database that stores data in a flexible,\n",
    "JSON-like format called BSON (Binary JSON). It is designed for scalability and flexibility,\n",
    "allowing for the storage of complex data structures and large amounts of data.\n",
    "\n",
    "Non-relational databases (NoSQL) do not use the traditional table-based structure found in relational databases (SQL).\n",
    "Instead, they use various data models to store and manage data, including:\n",
    "\n",
    "Document-based: Stores data as documents (e.g., MongoDB).\n",
    "Key-Value: Stores data as key-value pairs (e.g., Redis).\n",
    "\n",
    "When to Use MongoDB Over SQL Databases\n",
    "MongoDB is preferred in scenarios where:\n",
    "\n",
    "Flexible Schema: When the data structure can change over time or varies from one record to another.\n",
    "\n",
    "Example: Storing user profiles with different attributes.\n",
    "Scalability: When the application requires horizontal scaling across multiple servers.\n",
    "\n",
    "Example: Large-scale web applications with high traffic.'''"
   ]
  },
  {
   "cell_type": "code",
   "execution_count": 2,
   "id": "1e769544",
   "metadata": {},
   "outputs": [
    {
     "data": {
      "text/plain": [
       "'MongoDB is a powerful NoSQL database known for its flexibility, scalability, and high performance. \\nsome Basic features \\nDocument-Oriented Storage: Stores data in BSON documents.\\nSchema Flexibility: No predefined schema, allowing for dynamic changes.\\nHorizontal Scalability: Supports sharding for distributed data.\\nIndexing: Various types of indexes to improve query performance.\\nReplication: Ensures high availability and data redundancy.'"
      ]
     },
     "execution_count": 2,
     "metadata": {},
     "output_type": "execute_result"
    }
   ],
   "source": [
    "# Question number 2\n",
    "\n",
    "'''MongoDB is a powerful NoSQL database known for its flexibility, scalability, and high performance. \n",
    "some Basic features \n",
    "Document-Oriented Storage: Stores data in BSON documents.\n",
    "Schema Flexibility: No predefined schema, allowing for dynamic changes.\n",
    "Horizontal Scalability: Supports sharding for distributed data.\n",
    "Indexing: Various types of indexes to improve query performance.\n",
    "Replication: Ensures high availability and data redundancy.'''"
   ]
  },
  {
   "cell_type": "code",
   "execution_count": 3,
   "id": "ae69efef",
   "metadata": {},
   "outputs": [
    {
     "data": {
      "text/plain": [
       "'import pymongo\\n\\n# Connect to the MongoDB server (replace \\'localhost\\' and \\'27017\\' with your server\\'s address and port)\\nclient = pymongo.MongoClient(\"mongodb://localhost:27017/\")\\n\\n# Create a database called \"mydatabase\"\\ndb = client[\"mydatabase\"]\\n\\n# Create a collection called \"mycollection\"\\ncollection = db[\"mycollection\"]'"
      ]
     },
     "execution_count": 3,
     "metadata": {},
     "output_type": "execute_result"
    }
   ],
   "source": [
    "# Question Number 3\n",
    "'''import pymongo\n",
    "\n",
    "# Connect to the MongoDB server (replace 'localhost' and '27017' with your server's address and port)\n",
    "client = pymongo.MongoClient(\"mongodb://localhost:27017/\")\n",
    "\n",
    "# Create a database called \"mydatabase\"\n",
    "db = client[\"mydatabase\"]\n",
    "\n",
    "# Create a collection called \"mycollection\"\n",
    "collection = db[\"mycollection\"]'''"
   ]
  },
  {
   "cell_type": "code",
   "execution_count": 8,
   "id": "03f21be1",
   "metadata": {},
   "outputs": [
    {
     "data": {
      "text/plain": [
       "'data3 = {\\n \"name\": \"notebook\",\\n \"qty\": 50,\\n \"rating\": [ { \"score\": 8 }, { \"score\": 9 } ],\\n \"size\": { \"height\": 11, \"width\": 8.5, \"unit\": \"in\" },\\n \"status\": \"A\",\\n \"tags\": [ \"college-ruled\", \"perforated\"]\\n}\\n\\ncoll_pwskills.insert_one(data3)\\n\\nlist_of_records = [\\n    {\\'companyName\\': \\'iNeuron\\',\\n     \\'product\\': \\'Affordable AI\\',\\n     \\'courseOffered\\': \\'Machine Learning with Deployment\\'},\\n\\n    {\\'companyName\\': \\'iNeuron\\',\\n     \\'product\\': \\'Affordable AI\\',\\n     \\'courseOffered\\': \\'Deep Learning for NLP and Computer vision\\'},\\n\\n    {\\'companyName\\': \\'iNeuron\\',\\n     \\'product\\': \\'Master Program\\',\\n     \\'courseOffered\\': \\'Data Science Masters Program\\'}\\n]\\n\\ncoll_pwskills.insert_many(list_of_records)\\ncoll_pwskills.find_one()\\nfor i in coll_pwskills.find():\\n    print(i)'"
      ]
     },
     "execution_count": 8,
     "metadata": {},
     "output_type": "execute_result"
    }
   ],
   "source": [
    "# Question Number 4\n",
    "'''data3 = {\n",
    " \"name\": \"notebook\",\n",
    " \"qty\": 50,\n",
    " \"rating\": [ { \"score\": 8 }, { \"score\": 9 } ],\n",
    " \"size\": { \"height\": 11, \"width\": 8.5, \"unit\": \"in\" },\n",
    " \"status\": \"A\",\n",
    " \"tags\": [ \"college-ruled\", \"perforated\"]\n",
    "}\n",
    "\n",
    "coll_pwskills.insert_one(data3)\n",
    "\n",
    "list_of_records = [\n",
    "    {'companyName': 'iNeuron',\n",
    "     'product': 'Affordable AI',\n",
    "     'courseOffered': 'Machine Learning with Deployment'},\n",
    "\n",
    "    {'companyName': 'iNeuron',\n",
    "     'product': 'Affordable AI',\n",
    "     'courseOffered': 'Deep Learning for NLP and Computer vision'},\n",
    "\n",
    "    {'companyName': 'iNeuron',\n",
    "     'product': 'Master Program',\n",
    "     'courseOffered': 'Data Science Masters Program'}\n",
    "]\n",
    "\n",
    "coll_pwskills.insert_many(list_of_records)\n",
    "coll_pwskills.find_one()\n",
    "for i in coll_pwskills.find():\n",
    "    print(i)'''"
   ]
  },
  {
   "cell_type": "code",
   "execution_count": 9,
   "id": "78826b48",
   "metadata": {},
   "outputs": [
    {
     "data": {
      "text/plain": [
       "'using this in above dic\\nfor i in coll_pwskills.find():\\n    print(i)'"
      ]
     },
     "execution_count": 9,
     "metadata": {},
     "output_type": "execute_result"
    }
   ],
   "source": [
    "# Question Number 5\n",
    "'''using this in above dic\n",
    "for i in coll_pwskills.find():\n",
    "    print(i)'''"
   ]
  },
  {
   "cell_type": "code",
   "execution_count": 10,
   "id": "87f36b59",
   "metadata": {},
   "outputs": [
    {
     "data": {
      "text/plain": [
       "'The sort() method in MongoDB is used to order the results of a query in either ascending or descending order.\\nIt takes one or more fields by which to sort and specifies the sort order for each field.\\n\\nSuppose you have a collection named mycollection with the following documents:\\n    lets sort below on the basis of age.\\n    [\\n  { \"_id\": 1, \"name\": \"Alice\", \"age\": 25 },\\n  { \"_id\": 2, \"name\": \"Bob\", \"age\": 22 },\\n  { \"_id\": 3, \"name\": \"Charlie\", \"age\": 30 }\\n]\\n'"
      ]
     },
     "execution_count": 10,
     "metadata": {},
     "output_type": "execute_result"
    }
   ],
   "source": [
    "# Question Number 6\n",
    "'''The sort() method in MongoDB is used to order the results of a query in either ascending or descending order.\n",
    "It takes one or more fields by which to sort and specifies the sort order for each field.\n",
    "\n",
    "Suppose you have a collection named mycollection with the following documents:\n",
    "    lets sort below on the basis of age.\n",
    "    [\n",
    "  { \"_id\": 1, \"name\": \"Alice\", \"age\": 25 },\n",
    "  { \"_id\": 2, \"name\": \"Bob\", \"age\": 22 },\n",
    "  { \"_id\": 3, \"name\": \"Charlie\", \"age\": 30 }\n",
    "]\n",
    "'''"
   ]
  },
  {
   "cell_type": "code",
   "execution_count": 7,
   "id": "217b0d5b",
   "metadata": {},
   "outputs": [],
   "source": [
    "# Question Number 7\n",
    "delete_one(): Deletes the first document that matches the filter criteria.\n",
    "\n",
    "Use Case: When you want to remove a single, specific document.\n",
    "delete_many(): Deletes all documents that match the filter criteria.\n",
    "\n",
    "Use Case: When you need to remove multiple documents based on certain criteria.\n",
    "Example: Deleting all documents where age is greater than 23.\n",
    "drop(): Deletes the entire collection, including all documents in it.\n",
    "\n",
    "Use Case: When you want to completely remove a collection from the database."
   ]
  },
  {
   "cell_type": "code",
   "execution_count": null,
   "id": "bf89d157",
   "metadata": {},
   "outputs": [],
   "source": []
  }
 ],
 "metadata": {
  "kernelspec": {
   "display_name": "Python 3 (ipykernel)",
   "language": "python",
   "name": "python3"
  },
  "language_info": {
   "codemirror_mode": {
    "name": "ipython",
    "version": 3
   },
   "file_extension": ".py",
   "mimetype": "text/x-python",
   "name": "python",
   "nbconvert_exporter": "python",
   "pygments_lexer": "ipython3",
   "version": "3.11.5"
  }
 },
 "nbformat": 4,
 "nbformat_minor": 5
}
